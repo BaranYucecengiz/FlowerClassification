{
 "cells": [
  {
   "cell_type": "code",
   "execution_count": 1,
   "id": "881caf17",
   "metadata": {},
   "outputs": [],
   "source": [
    "import numpy as np\n",
    "import pandas as pd\n",
    "import cv2 as cv\n",
    "from sklearn.tree import DecisionTreeClassifier\n",
    "from sklearn.model_selection import train_test_split\n",
    "from sklearn.metrics import roc_auc_score\n",
    "import matplotlib.pyplot as plt\n",
    "from sklearn.metrics import roc_curve\n",
    "import PIL\n",
    "from PIL import Image"
   ]
  },
  {
   "cell_type": "code",
   "execution_count": 2,
   "id": "b54d2326",
   "metadata": {},
   "outputs": [
    {
     "name": "stdout",
     "output_type": "stream",
     "text": [
      "Number of images: 597\n"
     ]
    }
   ],
   "source": [
    "# load all images in a directory\n",
    "from os import listdir\n",
    "from matplotlib import image\n",
    "from skimage.transform import resize\n",
    "\n",
    "# load all images in a directory\n",
    "loaded_images = list()\n",
    "length = 597\n",
    "resizeM = 32\n",
    "resizeN = 64\n",
    "i=0\n",
    "for filename in listdir('flower_sementations/')[0:length]:\n",
    "    # load image\n",
    "    img_data = plt.imread('flower_sementations/' + filename)\n",
    "    resized = resize(img_data,(resizeM,resizeN))\n",
    "    # store loaded image\n",
    "    loaded_images.append(resized)\n",
    "    i+=1\n",
    "                     \n",
    "print(\"Number of images:\",len(loaded_images))\n"
   ]
  },
  {
   "cell_type": "code",
   "execution_count": 31,
   "id": "ddbaac2e",
   "metadata": {},
   "outputs": [
    {
     "name": "stdout",
     "output_type": "stream",
     "text": [
      "Number of images: 597\n"
     ]
    }
   ],
   "source": [
    "labels = list()\n",
    "file = open('flowers_labels.txt',\"r\")\n",
    "lines = file.readlines()\n",
    "for line in lines[0:length]:\n",
    "    line = line.rstrip(\"\\n\")\n",
    "    labels.append((int)(line))\n",
    "print(\"Number of images:\",len(labels))   "
   ]
  },
  {
   "cell_type": "markdown",
   "id": "ca2f3d4b",
   "metadata": {},
   "source": [
    "# HOG"
   ]
  },
  {
   "cell_type": "code",
   "execution_count": 4,
   "id": "870b490b",
   "metadata": {},
   "outputs": [],
   "source": [
    "#add to the list by flattening the arrays\n",
    "from skimage.feature import hog\n",
    "import numpy as np\n",
    "hoglist = list()\n",
    "for img in loaded_images:\n",
    "    fd, hog_image = hog(img, orientations=9, pixels_per_cell=(8, 8), \n",
    "                    cells_per_block=(2, 2), visualize=True, multichannel=True)\n",
    "    hoglist.append(np.array(hog_image).ravel())"
   ]
  },
  {
   "cell_type": "markdown",
   "id": "c3db9b93",
   "metadata": {},
   "source": [
    "# SIFT"
   ]
  },
  {
   "cell_type": "code",
   "execution_count": 5,
   "id": "62eb0c6e",
   "metadata": {},
   "outputs": [],
   "source": [
    "from skimage import img_as_ubyte\n",
    "import numpy as np\n",
    "import cv2 as cv\n",
    "siftlist = list()\n",
    "for img in loaded_images:\n",
    "    img = img_as_ubyte(img)\n",
    "    gray = cv.cvtColor(img,cv.COLOR_BGR2GRAY)\n",
    "    sift = cv.SIFT_create()\n",
    "    kp = sift.detect(gray,None)\n",
    "    img= cv.drawKeypoints(gray,kp,img)\n",
    "    img = cv.cvtColor(img,cv.COLOR_BGR2GRAY)\n",
    "    siftlist.append(np.array(img).ravel())\n",
    "    "
   ]
  },
  {
   "cell_type": "markdown",
   "id": "5b366d00",
   "metadata": {},
   "source": [
    "# Entropy"
   ]
  },
  {
   "cell_type": "code",
   "execution_count": 6,
   "id": "ba51f721",
   "metadata": {},
   "outputs": [],
   "source": [
    "import cv2 as cv\n",
    "import pandas as pd\n",
    "from skimage.filters.rank import entropy\n",
    "from skimage.filters import sobel\n",
    "from skimage.morphology import disk\n",
    "entropy_list = list()\n",
    "\n",
    "for img in loaded_images:\n",
    "    img = img_as_ubyte(img)\n",
    "    gray = cv.cvtColor(img,cv.COLOR_BGR2GRAY)\n",
    "    entropy_img = entropy(gray, disk(1))\n",
    "    entropy_list.append(np.array(entropy_img).ravel())"
   ]
  },
  {
   "cell_type": "markdown",
   "id": "1dbe8ebf",
   "metadata": {},
   "source": [
    "## Canny Edge"
   ]
  },
  {
   "cell_type": "code",
   "execution_count": 7,
   "id": "d85abab0",
   "metadata": {},
   "outputs": [],
   "source": [
    "canny_list = list()\n",
    "\n",
    "for img in loaded_images:\n",
    "    img = img_as_ubyte(img)\n",
    "    edges = cv.Canny(img,100,200)\n",
    "    canny_list.append(np.array(edges).ravel())\n"
   ]
  },
  {
   "cell_type": "markdown",
   "id": "25935961",
   "metadata": {},
   "source": [
    "Add all features into the list\n"
   ]
  },
  {
   "cell_type": "code",
   "execution_count": 8,
   "id": "d78e6934",
   "metadata": {},
   "outputs": [],
   "source": [
    "features = list()\n",
    "features.append(np.array(canny_list))\n",
    "features.append(np.array(hoglist))\n",
    "features.append(np.array(siftlist))\n",
    "features.append(np.array(entropy_list))"
   ]
  },
  {
   "cell_type": "markdown",
   "id": "75ef363d",
   "metadata": {},
   "source": [
    "## Creating DataFrame\n"
   ]
  },
  {
   "cell_type": "code",
   "execution_count": 9,
   "id": "21af8ce0",
   "metadata": {},
   "outputs": [],
   "source": [
    "def createDF(M , N, features, labels):\n",
    "    df = pd.DataFrame()\n",
    "    for i in range(resizeM):\n",
    "        for j in range(resizeN):    \n",
    "            df['pixel_' + str(i)+ '_' +str(j)] = df.sum(axis=1, numeric_only= True)\n",
    "    df_length = len(df.columns)\n",
    "    for i in range(length):\n",
    "        df.loc[i] = features[i]\n",
    "    df.insert(df_length, \"target\", labels, True) \n",
    "    return df"
   ]
  },
  {
   "cell_type": "code",
   "execution_count": 10,
   "id": "9c2ab9ff",
   "metadata": {},
   "outputs": [],
   "source": [
    "#Create Data Frame for all features\n",
    "dataFrames = list()\n",
    "dfCanny = createDF(resizeM, resizeN, features[0], labels)\n",
    "dfHog = createDF(resizeM, resizeN, features[1], labels)\n",
    "dfSift = createDF(resizeM, resizeN, features[2],labels)\n",
    "dfEntropy = createDF(resizeM, resizeN, features[3],labels)\n"
   ]
  },
  {
   "cell_type": "code",
   "execution_count": 11,
   "id": "14590834",
   "metadata": {},
   "outputs": [
    {
     "name": "stdout",
     "output_type": "stream",
     "text": [
      "There are 3 label in all data which are:  [77 73 88]\n"
     ]
    }
   ],
   "source": [
    "print(f\"There are {len(dfCanny['target'].unique())} label in all data which are: \", dfCanny['target'].unique())"
   ]
  },
  {
   "cell_type": "code",
   "execution_count": 12,
   "id": "98abb13e",
   "metadata": {},
   "outputs": [],
   "source": [
    "def getLabels(labels,dFrames):\n",
    "    frames = list()\n",
    "    for i in range(len(labels)):\n",
    "        frames.append(dFrames[(dFrames['target'] == labels[i])])    \n",
    "    return pd.concat(frames)\n",
    "\n",
    "#SELECT LABELS\n",
    "selectionLabels = dfCanny['target'].unique()\n",
    "\n",
    "dfCanny =getLabels(selectionLabels,dfCanny)\n",
    "dfHog =getLabels(selectionLabels,dfHog)\n",
    "dfHog =getLabels(selectionLabels,dfHog)\n",
    "dfEntropy =getLabels(selectionLabels,dfEntropy)\n",
    "\n",
    "dataFrames.append(dfCanny)\n",
    "dataFrames.append(dfHog)\n",
    "dataFrames.append(dfSift)\n",
    "dataFrames.append(dfEntropy)\n"
   ]
  },
  {
   "cell_type": "markdown",
   "id": "0c12bce9",
   "metadata": {},
   "source": [
    "## Creating Data"
   ]
  },
  {
   "cell_type": "code",
   "execution_count": 13,
   "id": "c1ab2fa0",
   "metadata": {},
   "outputs": [],
   "source": [
    "def createData(df):\n",
    "    X = np.array(df.loc[:, df.columns != 'target'].values.tolist())\n",
    "    y = np.array(df.loc[:, df.columns == 'target'].values.tolist()).ravel()\n",
    "    return X,y\n",
    "\n",
    "def corBetween(dFrames):\n",
    "    corrs = list()\n",
    "    for i in range(len(dFrames)):\n",
    "        for j in range(len(dFrames)):\n",
    "            cors = dFrames[i].corrwith(dFrames[j]).mean()\n",
    "            corrs.append(cors)\n",
    "            print(cors, end = \"\\t\")\n",
    "        print(\"\\n\")\n",
    "    return corrs\n",
    "\n",
    "def concatFeatures(selectionLists, dFrames):\n",
    "    Xlist = list()\n",
    "    ylist = list()\n",
    "    for i in range(len(dFrames)):\n",
    "        Xlist.append(createData(dFrames[i])[0])\n",
    "        ylist.append(createData(dFrames[i])[1])\n",
    "    for j in range(len(selectionLists)-1):\n",
    "        Xlist[selectionLists[0]] = np.vstack((Xlist[selectionLists[0]],Xlist[selectionLists[j]]))\n",
    "        ylist[selectionLists[0]] = np.hstack((ylist[selectionLists[0]],ylist[selectionLists[j]]))\n",
    "    return Xlist[selectionLists[0]],ylist[selectionLists[0]]\n"
   ]
  },
  {
   "cell_type": "code",
   "execution_count": 14,
   "id": "3c94316f",
   "metadata": {},
   "outputs": [
    {
     "name": "stdout",
     "output_type": "stream",
     "text": [
      "(1791, 2048)\n",
      "(1791,)\n"
     ]
    }
   ],
   "source": [
    "#SELECT FEATURES\n",
    "selectionFeatures = [0, 1, 3]\n",
    "X, y =concatFeatures(selectionFeatures,dataFrames)\n",
    "\n",
    "print(X.shape)\n",
    "print(y.shape)"
   ]
  },
  {
   "cell_type": "markdown",
   "id": "00460c28",
   "metadata": {},
   "source": [
    "## Correlation Between Datas"
   ]
  },
  {
   "cell_type": "code",
   "execution_count": 15,
   "id": "3f3f2e21",
   "metadata": {},
   "outputs": [
    {
     "name": "stdout",
     "output_type": "stream",
     "text": [
      "Correlation between datas\n",
      "1.0\t0.22260501355716766\t0.20311151777457637\t0.4454015458636451\t\n",
      "\n",
      "0.22260501355716766\t1.0\t0.25907726132607684\t0.47251985474098235\t\n",
      "\n",
      "0.20311151777457637\t0.25907726132607684\t1.0\t0.5316541335191983\t\n",
      "\n",
      "0.4454015458636451\t0.47251985474098235\t0.5316541335191983\t0.9999999999999998\t\n",
      "\n"
     ]
    }
   ],
   "source": [
    "print(\"Correlation between datas\")\n",
    "corrs = corBetween(dataFrames)"
   ]
  },
  {
   "cell_type": "markdown",
   "id": "8b0e68b7",
   "metadata": {},
   "source": [
    "## PCA"
   ]
  },
  {
   "cell_type": "code",
   "execution_count": 32,
   "id": "0a9f0801",
   "metadata": {},
   "outputs": [
    {
     "name": "stdout",
     "output_type": "stream",
     "text": [
      "(1791, 400)\n"
     ]
    }
   ],
   "source": [
    "from sklearn.decomposition import PCA\n",
    "\n",
    "pca = PCA()\n",
    "X = pca.fit_transform(X)\n",
    "\n",
    "print(X.shape)"
   ]
  },
  {
   "cell_type": "code",
   "execution_count": 17,
   "id": "48137a88",
   "metadata": {},
   "outputs": [
    {
     "data": {
      "image/png": "[encoded data removed]",
      "text/plain": [
       "<Figure size 720x720 with 1 Axes>"
      ]
     },
     "metadata": {
      "needs_background": "light"
     },
     "output_type": "display_data"
    }
   ],
   "source": [
    "plt.figure(figsize = (10, 10))\n",
    "plt.plot(pca.explained_variance_ratio_.cumsum(), marker = 'o', linestyle = '--') \n",
    "plt.title('Explained Variance by Components')\n",
    "plt.xlabel('Number of Components')\n",
    "plt.ylabel('Cumulative Explained Variance')\n",
    "plt.grid() "
   ]
  },
  {
   "cell_type": "code",
   "execution_count": 34,
   "id": "acfdb30e",
   "metadata": {},
   "outputs": [
    {
     "data": {
      "text/plain": [
       "(1791, 400)"
      ]
     },
     "execution_count": 34,
     "metadata": {},
     "output_type": "execute_result"
    }
   ],
   "source": [
    "pca = PCA(n_components= 400)\n",
    "X = pca.fit_transform(X)\n",
    "X.shape\n"
   ]
  },
  {
   "cell_type": "markdown",
   "id": "95d68ffc",
   "metadata": {},
   "source": [
    "## ScaleData and Split"
   ]
  },
  {
   "cell_type": "code",
   "execution_count": 19,
   "id": "e86682a7",
   "metadata": {},
   "outputs": [],
   "source": [
    "from sklearn.preprocessing import StandardScaler\n",
    "#Plane datası scale edilmeli\n",
    "X = StandardScaler().fit_transform(X)\n",
    "X_train, X_test, y_train, y_test = train_test_split(X, y, test_size=0.1)"
   ]
  },
  {
   "cell_type": "markdown",
   "id": "2e19d485",
   "metadata": {},
   "source": [
    "### KNN"
   ]
  },
  {
   "cell_type": "code",
   "execution_count": 20,
   "id": "79e7a2d3",
   "metadata": {},
   "outputs": [
    {
     "data": {
      "text/plain": [
       "KNeighborsClassifier()"
      ]
     },
     "execution_count": 20,
     "metadata": {},
     "output_type": "execute_result"
    }
   ],
   "source": [
    "from sklearn.neighbors import KNeighborsClassifier\n",
    "classifier = KNeighborsClassifier(n_neighbors=5)\n",
    "classifier.fit(X_train, y_train)\n"
   ]
  },
  {
   "cell_type": "code",
   "execution_count": 21,
   "id": "fd1d5fb9",
   "metadata": {},
   "outputs": [],
   "source": [
    "y_pred = classifier.predict(X_test)"
   ]
  },
  {
   "cell_type": "code",
   "execution_count": 22,
   "id": "91c67994",
   "metadata": {},
   "outputs": [
    {
     "name": "stdout",
     "output_type": "stream",
     "text": [
      "[[37 16 13]\n",
      " [ 9 58 15]\n",
      " [ 5 11 16]]\n",
      "              precision    recall  f1-score   support\n",
      "\n",
      "          73       0.73      0.56      0.63        66\n",
      "          77       0.68      0.71      0.69        82\n",
      "          88       0.36      0.50      0.42        32\n",
      "\n",
      "    accuracy                           0.62       180\n",
      "   macro avg       0.59      0.59      0.58       180\n",
      "weighted avg       0.64      0.62      0.62       180\n",
      "\n"
     ]
    }
   ],
   "source": [
    "from sklearn.metrics import classification_report, confusion_matrix\n",
    "print(confusion_matrix(y_test, y_pred))\n",
    "print(classification_report(y_test, y_pred))"
   ]
  },
  {
   "cell_type": "code",
   "execution_count": 23,
   "id": "19fe82b3",
   "metadata": {},
   "outputs": [],
   "source": [
    "error = []\n",
    "\n",
    "for i in range(1, 40):\n",
    "    knn = KNeighborsClassifier(n_neighbors=i)\n",
    "    knn.fit(X_train, y_train)\n",
    "    pred_i = knn.predict(X_test)\n",
    "    error.append(np.mean(pred_i != y_test))"
   ]
  },
  {
   "cell_type": "code",
   "execution_count": 24,
   "id": "7f079460",
   "metadata": {},
   "outputs": [
    {
     "data": {
      "text/plain": [
       "Text(0, 0.5, 'Mean Error')"
      ]
     },
     "execution_count": 24,
     "metadata": {},
     "output_type": "execute_result"
    },
    {
     "data": {
      "image/png": "[encoded data removed]",
      "text/plain": [
       "<Figure size 864x432 with 1 Axes>"
      ]
     },
     "metadata": {
      "needs_background": "light"
     },
     "output_type": "display_data"
    }
   ],
   "source": [
    "plt.figure(figsize=(12, 6))\n",
    "plt.plot(range(1, 40), error, color='red', linestyle='dashed', marker='o',\n",
    "         markerfacecolor='blue', markersize=10)\n",
    "plt.title('Error Rate K Value')\n",
    "plt.xlabel('K Value')\n",
    "plt.ylabel('Mean Error')"
   ]
  },
  {
   "cell_type": "markdown",
   "id": "4e6db83e",
   "metadata": {},
   "source": [
    "## Logistic\n"
   ]
  },
  {
   "cell_type": "code",
   "execution_count": 25,
   "id": "6d63250a",
   "metadata": {},
   "outputs": [],
   "source": [
    "from sklearn.linear_model import LogisticRegression\n",
    "\n",
    "logreg = LogisticRegression(solver='liblinear', random_state=0)\n",
    "logreg.fit(X_train,y_train)\n",
    "\n",
    "y_pred=logreg.predict(X_test)\n"
   ]
  },
  {
   "cell_type": "code",
   "execution_count": 26,
   "id": "357c9b12",
   "metadata": {},
   "outputs": [
    {
     "name": "stdout",
     "output_type": "stream",
     "text": [
      "Train Acc:  0.7970204841713222\n",
      "Test Acc:  0.8055555555555556\n",
      "[[42 24  0]\n",
      " [ 2 80  0]\n",
      " [ 0  9 23]]\n",
      "              precision    recall  f1-score   support\n",
      "\n",
      "          73       0.95      0.64      0.76        66\n",
      "          77       0.71      0.98      0.82        82\n",
      "          88       1.00      0.72      0.84        32\n",
      "\n",
      "    accuracy                           0.81       180\n",
      "   macro avg       0.89      0.78      0.81       180\n",
      "weighted avg       0.85      0.81      0.80       180\n",
      "\n"
     ]
    }
   ],
   "source": [
    "print(\"Train Acc: \",logreg.score(X_train, y_train))\n",
    "print(\"Test Acc: \",logreg.score(X_test, y_test))\n",
    "print(confusion_matrix(y_test, y_pred))\n",
    "print(classification_report(y_test, y_pred))"
   ]
  },
  {
   "cell_type": "markdown",
   "id": "31339bd8",
   "metadata": {},
   "source": [
    "## Random Forest"
   ]
  },
  {
   "cell_type": "code",
   "execution_count": 27,
   "id": "0de891fb",
   "metadata": {},
   "outputs": [],
   "source": [
    "from sklearn.ensemble import RandomForestClassifier\n",
    "\n",
    "randomfor=RandomForestClassifier(n_estimators=100)\n",
    "\n",
    "randomfor.fit(X_train,y_train)\n",
    "\n",
    "y_pred=randomfor.predict(X_test)"
   ]
  },
  {
   "cell_type": "code",
   "execution_count": 28,
   "id": "9e9ebe58",
   "metadata": {},
   "outputs": [
    {
     "name": "stdout",
     "output_type": "stream",
     "text": [
      "Accuracy: 0.8777777777777778\n",
      "[[56  5  5]\n",
      " [ 3 78  1]\n",
      " [ 2  6 24]]\n",
      "              precision    recall  f1-score   support\n",
      "\n",
      "          73       0.92      0.85      0.88        66\n",
      "          77       0.88      0.95      0.91        82\n",
      "          88       0.80      0.75      0.77        32\n",
      "\n",
      "    accuracy                           0.88       180\n",
      "   macro avg       0.86      0.85      0.86       180\n",
      "weighted avg       0.88      0.88      0.88       180\n",
      "\n"
     ]
    }
   ],
   "source": [
    "from sklearn import metrics\n",
    "print(\"Accuracy:\",metrics.accuracy_score(y_test, y_pred))\n",
    "print(confusion_matrix(y_test, y_pred))\n",
    "print(classification_report(y_test, y_pred))"
   ]
  },
  {
   "cell_type": "code",
   "execution_count": null,
   "id": "8e5a1a93",
   "metadata": {},
   "outputs": [],
   "source": []
  },
  {
   "cell_type": "code",
   "execution_count": null,
   "id": "5adfd82f",
   "metadata": {},
   "outputs": [],
   "source": []
  }
 ],
 "metadata": {
  "kernelspec": {
   "display_name": "Python 3",
   "language": "python",
   "name": "python3"
  },
  "language_info": {
   "codemirror_mode": {
    "name": "ipython",
    "version": 3
   },
   "file_extension": ".py",
   "mimetype": "text/x-python",
   "name": "python",
   "nbconvert_exporter": "python",
   "pygments_lexer": "ipython3",
   "version": "3.8.8"
  }
 },
 "nbformat": 4,
 "nbformat_minor": 5
}
